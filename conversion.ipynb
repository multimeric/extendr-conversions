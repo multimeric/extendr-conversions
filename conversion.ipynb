{
 "cells": [
  {
   "cell_type": "markdown",
   "id": "afb515c2",
   "metadata": {},
   "source": [
    "# Third Party Conversions\n",
    "\n",
    "This notebook looks into some different approaches we could take in allowing third party conversions in `extendr`: [#440](https://github.com/extendr/extendr/issues/440). This is related to the question of whether we use `TryFrom` or a custom trait ([#498](https://github.com/extendr/extendr/issues/498)), but only indirectly.\n",
    "\n",
    "The main factors we need to consider are whether each approach allows users to implement an extendr conversion for:\n",
    "* Their own types. We will use `MyStruct` as a proxy for this. This is the easiest to achieve\n",
    "* Types that already have a conversion in `extendr` (the user wants to override this conversion). We will use the `bool` type as an example of this.\n",
    "* Types that neither the user nor `extendr` owns. We will use `String` as an example of this, since it is owned by `std`."
   ]
  },
  {
   "cell_type": "markdown",
   "id": "6cba0470",
   "metadata": {},
   "source": [
    "Aside: we define a `cat_rust` function for displaying source code that isn't executed directly in this notebook:"
   ]
  },
  {
   "cell_type": "code",
   "execution_count": 5,
   "id": "587ed3ba-3c01-4e6e-9c76-15187c355361",
   "metadata": {
    "tags": []
   },
   "outputs": [],
   "source": [
    ":dep bat\n",
    "use bat::PrettyPrinter;\n",
    "\n",
    "fn cat_rust(path: &str){\n",
    "    bat::PrettyPrinter::new()\n",
    "        .input_file(path)\n",
    "        .language(\"rust\")\n",
    "        .theme(\"GitHub\")\n",
    "        .print()\n",
    "        .unwrap();\n",
    "}"
   ]
  },
  {
   "cell_type": "markdown",
   "id": "3511b23c-a11e-4b9b-9bad-bdd00393d978",
   "metadata": {},
   "source": [
    "# Current Behaviour"
   ]
  },
  {
   "cell_type": "markdown",
   "id": "e0b16a20-8d45-43ae-9101-30b4d3496e8e",
   "metadata": {},
   "source": [
    "We use the `current` crate to simulate what it's like to import `extendr-api` using the current behaviour."
   ]
  },
  {
   "cell_type": "code",
   "execution_count": 6,
   "id": "0f221190-e6ee-4746-b73d-76d76f5bfef9",
   "metadata": {
    "tags": []
   },
   "outputs": [],
   "source": [
    ":dep current = {path = \"./current\"}"
   ]
  },
  {
   "cell_type": "markdown",
   "id": "e2adcd20-35db-480e-8112-b9650f1e7837",
   "metadata": {},
   "source": [
    "`current` includes simple analogues of the real traits we would use in `extendr-api`. We also have an example conversion implementation for `bool`, which simulates the way in which `extendr-api` provides built-in conversions: "
   ]
  },
  {
   "cell_type": "code",
   "execution_count": 8,
   "id": "70bdb08e-1c65-4270-9e3d-ad53c143c667",
   "metadata": {
    "scrolled": true,
    "tags": []
   },
   "outputs": [
    {
     "name": "stdout",
     "output_type": "stream",
     "text": [
      "\u001b[38;2;167;29;93mpub\u001b[0m\u001b[38;2;51;51;51m \u001b[0m\u001b[38;2;167;29;93mstruct\u001b[0m\u001b[38;2;51;51;51m \u001b[0m\u001b[38;2;51;51;51mRobj\u001b[0m\u001b[38;2;51;51;51m;\u001b[0m\n",
      "\u001b[38;2;167;29;93mpub\u001b[0m\u001b[38;2;51;51;51m \u001b[0m\u001b[38;2;167;29;93mtrait\u001b[0m\u001b[38;2;51;51;51m \u001b[0m\u001b[38;2;51;51;51mFromRobj\u001b[0m\u001b[38;2;51;51;51m: Sized \u001b[0m\u001b[38;2;51;51;51m{\u001b[0m\n",
      "\u001b[38;2;51;51;51m    \u001b[0m\u001b[38;2;167;29;93mfn\u001b[0m\u001b[38;2;51;51;51m \u001b[0m\u001b[38;2;121;93;163mfrom_robj\u001b[0m\u001b[38;2;51;51;51m(\u001b[0m\u001b[38;2;0;134;179mrobj\u001b[0m\u001b[38;2;51;51;51m:\u001b[0m\u001b[38;2;51;51;51m \u001b[0m\u001b[38;2;167;29;93m&\u001b[0m\u001b[38;2;51;51;51mRobj\u001b[0m\u001b[38;2;51;51;51m)\u001b[0m\u001b[38;2;51;51;51m \u001b[0m\u001b[38;2;51;51;51m->\u001b[0m\u001b[38;2;51;51;51m \u001b[0m\u001b[38;2;0;134;179mResult\u001b[0m\u001b[38;2;51;51;51m<\u001b[0m\u001b[38;2;167;29;93mSelf\u001b[0m\u001b[38;2;51;51;51m, \u001b[0m\u001b[38;2;167;29;93m&\u001b[0m\u001b[38;2;167;29;93m'static\u001b[0m\u001b[38;2;51;51;51m \u001b[0m\u001b[38;2;167;29;93mstr\u001b[0m\u001b[38;2;51;51;51m>\u001b[0m\u001b[38;2;51;51;51m;\u001b[0m\n",
      "\u001b[38;2;51;51;51m}\u001b[0m\n",
      "\u001b[38;2;167;29;93mimpl\u001b[0m\u001b[38;2;51;51;51m \u001b[0m\u001b[38;2;51;51;51mFromRobj \u001b[0m\u001b[38;2;167;29;93mfor\u001b[0m\u001b[38;2;51;51;51m \u001b[0m\u001b[38;2;51;51;51mbool\u001b[0m\u001b[38;2;51;51;51m \u001b[0m\u001b[38;2;51;51;51m{\u001b[0m\n",
      "\u001b[38;2;51;51;51m    \u001b[0m\u001b[38;2;167;29;93mfn\u001b[0m\u001b[38;2;51;51;51m \u001b[0m\u001b[38;2;121;93;163mfrom_robj\u001b[0m\u001b[38;2;51;51;51m(\u001b[0m\u001b[38;2;0;134;179m_robj\u001b[0m\u001b[38;2;51;51;51m:\u001b[0m\u001b[38;2;51;51;51m \u001b[0m\u001b[38;2;167;29;93m&\u001b[0m\u001b[38;2;51;51;51mRobj\u001b[0m\u001b[38;2;51;51;51m)\u001b[0m\u001b[38;2;51;51;51m \u001b[0m\u001b[38;2;51;51;51m->\u001b[0m\u001b[38;2;51;51;51m \u001b[0m\u001b[38;2;0;134;179mResult\u001b[0m\u001b[38;2;51;51;51m<\u001b[0m\u001b[38;2;167;29;93mSelf\u001b[0m\u001b[38;2;51;51;51m, \u001b[0m\u001b[38;2;167;29;93m&\u001b[0m\u001b[38;2;167;29;93m'static\u001b[0m\u001b[38;2;51;51;51m \u001b[0m\u001b[38;2;167;29;93mstr\u001b[0m\u001b[38;2;51;51;51m>\u001b[0m\u001b[38;2;51;51;51m \u001b[0m\u001b[38;2;51;51;51m{\u001b[0m\n",
      "\u001b[38;2;51;51;51m        \u001b[0m\u001b[38;2;0;134;179mOk\u001b[0m\u001b[38;2;51;51;51m(\u001b[0m\u001b[38;2;0;134;179mtrue\u001b[0m\u001b[38;2;51;51;51m)\u001b[0m\n",
      "\u001b[38;2;51;51;51m    \u001b[0m\u001b[38;2;51;51;51m}\u001b[0m\n",
      "\u001b[38;2;51;51;51m}\u001b[0m\n"
     ]
    }
   ],
   "source": [
    "cat_rust(\"current/src/lib.rs\");"
   ]
  },
  {
   "cell_type": "markdown",
   "id": "985737db-1600-4915-9f3a-2f7128ee5d37",
   "metadata": {},
   "source": [
    "Next, let's pretend this is the struct we are converting from R."
   ]
  },
  {
   "cell_type": "code",
   "execution_count": 9,
   "id": "54c0b693-76e1-4819-9c9a-0bdb074d5c0d",
   "metadata": {
    "tags": []
   },
   "outputs": [],
   "source": [
    "struct MyStruct;"
   ]
  },
  {
   "cell_type": "code",
   "execution_count": 10,
   "id": "b71b8db2",
   "metadata": {},
   "outputs": [],
   "source": [
    "impl current::FromRobj for MyStruct {\n",
    "    fn from_robj(_: &current::Robj) -> Result<Self, &'static str> {\n",
    "        Ok(MyStruct)\n",
    "    }\n",
    "}"
   ]
  },
  {
   "cell_type": "markdown",
   "id": "3aadb9b1",
   "metadata": {},
   "source": [
    "This works, so the first criteria is satisfied ✅"
   ]
  },
  {
   "cell_type": "markdown",
   "id": "4058bf34",
   "metadata": {},
   "source": [
    "For the second criteria, overriding an existing conversion, we get an Orphan Rule violation ❎:"
   ]
  },
  {
   "cell_type": "code",
   "execution_count": 13,
   "id": "a5a189fd",
   "metadata": {},
   "outputs": [
    {
     "ename": "Error",
     "evalue": "only traits defined in the current crate can be implemented for primitive types",
     "output_type": "error",
     "traceback": [
      "\u001b[31m[E0117] Error:\u001b[0m only traits defined in the current crate can be implemented for primitive types",
      "   \u001b[38;5;246m╭\u001b[0m\u001b[38;5;246m─\u001b[0m\u001b[38;5;246m[\u001b[0mcommand_13:1:1\u001b[38;5;246m]\u001b[0m",
      "   \u001b[38;5;246m│\u001b[0m",
      " \u001b[38;5;246m1 │\u001b[0m \u001b[38;5;54mi\u001b[0m\u001b[38;5;54mm\u001b[0m\u001b[38;5;54mp\u001b[0m\u001b[38;5;54ml\u001b[0m\u001b[38;5;54m \u001b[0m\u001b[38;5;54mc\u001b[0m\u001b[38;5;54mu\u001b[0m\u001b[38;5;54mr\u001b[0m\u001b[38;5;54mr\u001b[0m\u001b[38;5;54me\u001b[0m\u001b[38;5;54mn\u001b[0m\u001b[38;5;54mt\u001b[0m\u001b[38;5;54m:\u001b[0m\u001b[38;5;54m:\u001b[0m\u001b[38;5;54mF\u001b[0m\u001b[38;5;54mr\u001b[0m\u001b[38;5;54mo\u001b[0m\u001b[38;5;54mm\u001b[0m\u001b[38;5;54mR\u001b[0m\u001b[38;5;54mo\u001b[0m\u001b[38;5;54mb\u001b[0m\u001b[38;5;54mj\u001b[0m\u001b[38;5;54m \u001b[0m\u001b[38;5;54mf\u001b[0m\u001b[38;5;54mo\u001b[0m\u001b[38;5;54mr\u001b[0m\u001b[38;5;54m \u001b[0m\u001b[38;5;100mb\u001b[0m\u001b[38;5;100mo\u001b[0m\u001b[38;5;100mo\u001b[0m\u001b[38;5;100ml\u001b[0m\u001b[38;5;249m \u001b[0m\u001b[38;5;249m{\u001b[0m",
      " \u001b[38;5;246m  ·\u001b[0m \u001b[38;5;54m─\u001b[0m\u001b[38;5;54m─\u001b[0m\u001b[38;5;54m─\u001b[0m\u001b[38;5;54m─\u001b[0m\u001b[38;5;54m─\u001b[0m\u001b[38;5;54m─\u001b[0m\u001b[38;5;54m─\u001b[0m\u001b[38;5;54m─\u001b[0m\u001b[38;5;54m─\u001b[0m\u001b[38;5;54m─\u001b[0m\u001b[38;5;54m─\u001b[0m\u001b[38;5;54m─\u001b[0m\u001b[38;5;54m─\u001b[0m\u001b[38;5;54m─\u001b[0m\u001b[38;5;54m─\u001b[0m\u001b[38;5;54m┬\u001b[0m\u001b[38;5;54m─\u001b[0m\u001b[38;5;54m─\u001b[0m\u001b[38;5;54m─\u001b[0m\u001b[38;5;54m─\u001b[0m\u001b[38;5;54m─\u001b[0m\u001b[38;5;54m─\u001b[0m\u001b[38;5;54m─\u001b[0m\u001b[38;5;54m─\u001b[0m\u001b[38;5;54m─\u001b[0m\u001b[38;5;54m─\u001b[0m\u001b[38;5;54m─\u001b[0m\u001b[38;5;100m─\u001b[0m\u001b[38;5;100m─\u001b[0m\u001b[38;5;100m┬\u001b[0m\u001b[38;5;100m─\u001b[0m  ",
      " \u001b[38;5;246m  ·\u001b[0m                \u001b[38;5;54m╰\u001b[0m\u001b[38;5;54m─\u001b[0m\u001b[38;5;54m─\u001b[0m\u001b[38;5;54m─\u001b[0m\u001b[38;5;54m─\u001b[0m\u001b[38;5;54m─\u001b[0m\u001b[38;5;54m─\u001b[0m\u001b[38;5;54m─\u001b[0m\u001b[38;5;54m─\u001b[0m\u001b[38;5;54m─\u001b[0m\u001b[38;5;54m─\u001b[0m\u001b[38;5;54m─\u001b[0m\u001b[38;5;54m─\u001b[0m\u001b[38;5;54m─\u001b[0m\u001b[38;5;54m─\u001b[0m\u001b[38;5;54m─\u001b[0m\u001b[38;5;54m─\u001b[0m\u001b[38;5;54m─\u001b[0m impl doesn't use only types from inside the current crate",
      " \u001b[38;5;246m  ·\u001b[0m                              \u001b[38;5;100m│\u001b[0m   ",
      " \u001b[38;5;246m  ·\u001b[0m                              \u001b[38;5;100m╰\u001b[0m\u001b[38;5;100m─\u001b[0m\u001b[38;5;100m─\u001b[0m\u001b[38;5;100m─\u001b[0m `bool` is not defined in the current crate",
      "\u001b[38;5;246m───╯\u001b[0m"
     ]
    }
   ],
   "source": [
    "impl current::FromRobj for bool {\n",
    "    fn from_robj(_robj: &current::Robj) -> Result<Self, &'static str> {\n",
    "        Ok(false)\n",
    "    }\n",
    "}"
   ]
  },
  {
   "cell_type": "markdown",
   "id": "7bf93dbe-5a4b-46c3-b857-90ef4a1556c5",
   "metadata": {},
   "source": [
    "Likewise for the third criteria, when we try to implement a conversion for a type that we don't own. In this case, `String` is part of the `std` crate so is not under our ownership:"
   ]
  },
  {
   "cell_type": "code",
   "execution_count": 14,
   "id": "22874c21-fe84-43d9-956e-30cc2d3a8047",
   "metadata": {
    "tags": []
   },
   "outputs": [
    {
     "ename": "Error",
     "evalue": "only traits defined in the current crate can be implemented for types defined outside of the crate",
     "output_type": "error",
     "traceback": [
      "\u001b[31m[E0117] Error:\u001b[0m only traits defined in the current crate can be implemented for types defined outside of the crate",
      "   \u001b[38;5;246m╭\u001b[0m\u001b[38;5;246m─\u001b[0m\u001b[38;5;246m[\u001b[0mcommand_14:1:1\u001b[38;5;246m]\u001b[0m",
      "   \u001b[38;5;246m│\u001b[0m",
      " \u001b[38;5;246m1 │\u001b[0m \u001b[38;5;54mi\u001b[0m\u001b[38;5;54mm\u001b[0m\u001b[38;5;54mp\u001b[0m\u001b[38;5;54ml\u001b[0m\u001b[38;5;54m \u001b[0m\u001b[38;5;54mc\u001b[0m\u001b[38;5;54mu\u001b[0m\u001b[38;5;54mr\u001b[0m\u001b[38;5;54mr\u001b[0m\u001b[38;5;54me\u001b[0m\u001b[38;5;54mn\u001b[0m\u001b[38;5;54mt\u001b[0m\u001b[38;5;54m:\u001b[0m\u001b[38;5;54m:\u001b[0m\u001b[38;5;54mF\u001b[0m\u001b[38;5;54mr\u001b[0m\u001b[38;5;54mo\u001b[0m\u001b[38;5;54mm\u001b[0m\u001b[38;5;54mR\u001b[0m\u001b[38;5;54mo\u001b[0m\u001b[38;5;54mb\u001b[0m\u001b[38;5;54mj\u001b[0m\u001b[38;5;54m \u001b[0m\u001b[38;5;54mf\u001b[0m\u001b[38;5;54mo\u001b[0m\u001b[38;5;54mr\u001b[0m\u001b[38;5;54m \u001b[0m\u001b[38;5;100mS\u001b[0m\u001b[38;5;100mt\u001b[0m\u001b[38;5;100mr\u001b[0m\u001b[38;5;100mi\u001b[0m\u001b[38;5;100mn\u001b[0m\u001b[38;5;100mg\u001b[0m\u001b[38;5;249m \u001b[0m\u001b[38;5;249m{\u001b[0m",
      " \u001b[38;5;246m  ·\u001b[0m \u001b[38;5;54m─\u001b[0m\u001b[38;5;54m─\u001b[0m\u001b[38;5;54m─\u001b[0m\u001b[38;5;54m─\u001b[0m\u001b[38;5;54m─\u001b[0m\u001b[38;5;54m─\u001b[0m\u001b[38;5;54m─\u001b[0m\u001b[38;5;54m─\u001b[0m\u001b[38;5;54m─\u001b[0m\u001b[38;5;54m─\u001b[0m\u001b[38;5;54m─\u001b[0m\u001b[38;5;54m─\u001b[0m\u001b[38;5;54m─\u001b[0m\u001b[38;5;54m─\u001b[0m\u001b[38;5;54m─\u001b[0m\u001b[38;5;54m─\u001b[0m\u001b[38;5;54m┬\u001b[0m\u001b[38;5;54m─\u001b[0m\u001b[38;5;54m─\u001b[0m\u001b[38;5;54m─\u001b[0m\u001b[38;5;54m─\u001b[0m\u001b[38;5;54m─\u001b[0m\u001b[38;5;54m─\u001b[0m\u001b[38;5;54m─\u001b[0m\u001b[38;5;54m─\u001b[0m\u001b[38;5;54m─\u001b[0m\u001b[38;5;54m─\u001b[0m\u001b[38;5;100m─\u001b[0m\u001b[38;5;100m─\u001b[0m\u001b[38;5;100m─\u001b[0m\u001b[38;5;100m┬\u001b[0m\u001b[38;5;100m─\u001b[0m\u001b[38;5;100m─\u001b[0m  ",
      " \u001b[38;5;246m  ·\u001b[0m                 \u001b[38;5;54m╰\u001b[0m\u001b[38;5;54m─\u001b[0m\u001b[38;5;54m─\u001b[0m\u001b[38;5;54m─\u001b[0m\u001b[38;5;54m─\u001b[0m\u001b[38;5;54m─\u001b[0m\u001b[38;5;54m─\u001b[0m\u001b[38;5;54m─\u001b[0m\u001b[38;5;54m─\u001b[0m\u001b[38;5;54m─\u001b[0m\u001b[38;5;54m─\u001b[0m\u001b[38;5;54m─\u001b[0m\u001b[38;5;54m─\u001b[0m\u001b[38;5;54m─\u001b[0m\u001b[38;5;54m─\u001b[0m\u001b[38;5;54m─\u001b[0m\u001b[38;5;54m─\u001b[0m\u001b[38;5;54m─\u001b[0m\u001b[38;5;54m─\u001b[0m impl doesn't use only types from inside the current crate",
      " \u001b[38;5;246m  ·\u001b[0m                               \u001b[38;5;100m│\u001b[0m    ",
      " \u001b[38;5;246m  ·\u001b[0m                               \u001b[38;5;100m╰\u001b[0m\u001b[38;5;100m─\u001b[0m\u001b[38;5;100m─\u001b[0m\u001b[38;5;100m─\u001b[0m\u001b[38;5;100m─\u001b[0m `String` is not defined in the current crate",
      "\u001b[38;5;246m───╯\u001b[0m"
     ]
    }
   ],
   "source": [
    "impl current::FromRobj for String {\n",
    "    fn from_robj(_: &current::Robj) -> Result<Self, &'static str> {\n",
    "        Ok(String::new())\n",
    "    }\n",
    "}"
   ]
  },
  {
   "cell_type": "markdown",
   "id": "0cf49141",
   "metadata": {},
   "source": [
    "# Newtype"
   ]
  },
  {
   "cell_type": "markdown",
   "id": "9bb97e95",
   "metadata": {},
   "source": [
    "Newtype is the current workaround to the above issues. Indeed it's the standard workaround to the Orphan Rule in Rust generally."
   ]
  },
  {
   "cell_type": "code",
   "execution_count": 15,
   "id": "d466c7ce",
   "metadata": {},
   "outputs": [],
   "source": [
    "struct MyString(String);\n",
    "\n",
    "impl current::FromRobj for MyString {\n",
    "    fn from_robj(_: &current::Robj) -> Result<Self, &'static str> {\n",
    "        Ok(MyString(String::from(\"foo\")))\n",
    "    }\n",
    "}"
   ]
  },
  {
   "cell_type": "markdown",
   "id": "5a2e0b2b",
   "metadata": {},
   "source": [
    "We are able to successfully create a conversion for a third party type."
   ]
  },
  {
   "cell_type": "markdown",
   "id": "c4bc12e7",
   "metadata": {},
   "source": [
    "However, this adds some overhead to the user. If we try to use an extendr function with the original type (`String`), it will fail:"
   ]
  },
  {
   "cell_type": "code",
   "execution_count": 16,
   "id": "0358591d",
   "metadata": {},
   "outputs": [
    {
     "ename": "Error",
     "evalue": "the trait bound `String: FromRobj` is not satisfied",
     "output_type": "error",
     "traceback": [
      "\u001b[31m[E0277] Error:\u001b[0m the trait bound `String: FromRobj` is not satisfied",
      "   \u001b[38;5;246m╭\u001b[0m\u001b[38;5;246m─\u001b[0m\u001b[38;5;246m[\u001b[0mcommand_16:1:1\u001b[38;5;246m]\u001b[0m",
      "   \u001b[38;5;246m│\u001b[0m",
      " \u001b[38;5;246m5 │\u001b[0m \u001b[38;5;249mp\u001b[0m\u001b[38;5;249mr\u001b[0m\u001b[38;5;249mi\u001b[0m\u001b[38;5;249mn\u001b[0m\u001b[38;5;249mt\u001b[0m\u001b[38;5;249m_\u001b[0m\u001b[38;5;249ms\u001b[0m\u001b[38;5;249mt\u001b[0m\u001b[38;5;249mr\u001b[0m\u001b[38;5;249mi\u001b[0m\u001b[38;5;249mn\u001b[0m\u001b[38;5;249mg\u001b[0m\u001b[38;5;249m(\u001b[0m\u001b[38;5;54mc\u001b[0m\u001b[38;5;54mu\u001b[0m\u001b[38;5;54mr\u001b[0m\u001b[38;5;54mr\u001b[0m\u001b[38;5;54me\u001b[0m\u001b[38;5;54mn\u001b[0m\u001b[38;5;54mt\u001b[0m\u001b[38;5;54m:\u001b[0m\u001b[38;5;54m:\u001b[0m\u001b[38;5;54mF\u001b[0m\u001b[38;5;54mr\u001b[0m\u001b[38;5;54mo\u001b[0m\u001b[38;5;54mm\u001b[0m\u001b[38;5;54mR\u001b[0m\u001b[38;5;54mo\u001b[0m\u001b[38;5;54mb\u001b[0m\u001b[38;5;54mj\u001b[0m\u001b[38;5;54m:\u001b[0m\u001b[38;5;54m:\u001b[0m\u001b[38;5;54mf\u001b[0m\u001b[38;5;54mr\u001b[0m\u001b[38;5;54mo\u001b[0m\u001b[38;5;54mm\u001b[0m\u001b[38;5;54m_\u001b[0m\u001b[38;5;54mr\u001b[0m\u001b[38;5;54mo\u001b[0m\u001b[38;5;54mb\u001b[0m\u001b[38;5;54mj\u001b[0m\u001b[38;5;249m(\u001b[0m\u001b[38;5;249m&\u001b[0m\u001b[38;5;249mc\u001b[0m\u001b[38;5;249mu\u001b[0m\u001b[38;5;249mr\u001b[0m\u001b[38;5;249mr\u001b[0m\u001b[38;5;249me\u001b[0m\u001b[38;5;249mn\u001b[0m\u001b[38;5;249mt\u001b[0m\u001b[38;5;249m:\u001b[0m\u001b[38;5;249m:\u001b[0m\u001b[38;5;249mR\u001b[0m\u001b[38;5;249mo\u001b[0m\u001b[38;5;249mb\u001b[0m\u001b[38;5;249mj\u001b[0m\u001b[38;5;249m)\u001b[0m\u001b[38;5;249m.\u001b[0m\u001b[38;5;249mu\u001b[0m\u001b[38;5;249mn\u001b[0m\u001b[38;5;249mw\u001b[0m\u001b[38;5;249mr\u001b[0m\u001b[38;5;249ma\u001b[0m\u001b[38;5;249mp\u001b[0m\u001b[38;5;249m(\u001b[0m\u001b[38;5;249m)\u001b[0m\u001b[38;5;249m)\u001b[0m\u001b[38;5;249m;\u001b[0m",
      " \u001b[38;5;246m  ·\u001b[0m              \u001b[38;5;54m─\u001b[0m\u001b[38;5;54m─\u001b[0m\u001b[38;5;54m─\u001b[0m\u001b[38;5;54m─\u001b[0m\u001b[38;5;54m─\u001b[0m\u001b[38;5;54m─\u001b[0m\u001b[38;5;54m─\u001b[0m\u001b[38;5;54m─\u001b[0m\u001b[38;5;54m─\u001b[0m\u001b[38;5;54m─\u001b[0m\u001b[38;5;54m─\u001b[0m\u001b[38;5;54m─\u001b[0m\u001b[38;5;54m─\u001b[0m\u001b[38;5;54m─\u001b[0m\u001b[38;5;54m┬\u001b[0m\u001b[38;5;54m─\u001b[0m\u001b[38;5;54m─\u001b[0m\u001b[38;5;54m─\u001b[0m\u001b[38;5;54m─\u001b[0m\u001b[38;5;54m─\u001b[0m\u001b[38;5;54m─\u001b[0m\u001b[38;5;54m─\u001b[0m\u001b[38;5;54m─\u001b[0m\u001b[38;5;54m─\u001b[0m\u001b[38;5;54m─\u001b[0m\u001b[38;5;54m─\u001b[0m\u001b[38;5;54m─\u001b[0m\u001b[38;5;54m─\u001b[0m  ",
      " \u001b[38;5;246m  ·\u001b[0m                            \u001b[38;5;54m╰\u001b[0m\u001b[38;5;54m─\u001b[0m\u001b[38;5;54m─\u001b[0m\u001b[38;5;54m─\u001b[0m\u001b[38;5;54m─\u001b[0m\u001b[38;5;54m─\u001b[0m\u001b[38;5;54m─\u001b[0m\u001b[38;5;54m─\u001b[0m\u001b[38;5;54m─\u001b[0m\u001b[38;5;54m─\u001b[0m\u001b[38;5;54m─\u001b[0m\u001b[38;5;54m─\u001b[0m\u001b[38;5;54m─\u001b[0m\u001b[38;5;54m─\u001b[0m\u001b[38;5;54m─\u001b[0m\u001b[38;5;54m─\u001b[0m the trait `FromRobj` is not implemented for `String`",
      "\u001b[38;5;246m───╯\u001b[0m"
     ]
    }
   ],
   "source": [
    "// Imagine this has the #[extendr] attribute\n",
    "fn print_string(x: String){\n",
    "    println!(\"{}\", x)\n",
    "}\n",
    "\n",
    "// And imagine this is being called from R inside of extendr\n",
    "print_string(current::FromRobj::from_robj(&current::Robj).unwrap());"
   ]
  },
  {
   "cell_type": "markdown",
   "id": "300a9281",
   "metadata": {},
   "source": [
    "But as long as we make the function accept the newtype it will be fine:"
   ]
  },
  {
   "cell_type": "code",
   "execution_count": 17,
   "id": "e1885b87",
   "metadata": {},
   "outputs": [
    {
     "name": "stdout",
     "output_type": "stream",
     "text": [
      "foo\n"
     ]
    }
   ],
   "source": [
    "// Imagine this has #[extendr]\n",
    "fn print_string(x: MyString){\n",
    "    // Unwrap the newtype\n",
    "    let unwrapped: String = x.0;\n",
    "    \n",
    "    // We can now use the String as normal \n",
    "    println!(\"{}\", unwrapped)\n",
    "}\n",
    "print_string(current::FromRobj::from_robj(&current::Robj).unwrap());"
   ]
  },
  {
   "cell_type": "markdown",
   "id": "75041b86",
   "metadata": {},
   "source": [
    "This approach also works for overriding an existing conversion:"
   ]
  },
  {
   "cell_type": "code",
   "execution_count": 18,
   "id": "3c7e03ac",
   "metadata": {},
   "outputs": [],
   "source": [
    "struct MyBool(bool);\n",
    "impl current::FromRobj for MyBool {\n",
    "    fn from_robj(_robj: &current::Robj) -> Result<Self, &'static str> {\n",
    "        Ok(MyBool(false))\n",
    "    }\n",
    "}"
   ]
  },
  {
   "cell_type": "markdown",
   "id": "7245f29c-e938-451b-bc4e-3c12006564a5",
   "metadata": {},
   "source": [
    "# Generic Conversion Trait"
   ]
  },
  {
   "cell_type": "markdown",
   "id": "af2dd703-b025-4e26-a593-4110b081159e",
   "metadata": {},
   "source": [
    "Another option, [as suggested here](https://github.com/extendr/extendr/issues/440#issuecomment-1448873888), is to define the `FromRobj` trait as generic over a marker trait:"
   ]
  },
  {
   "cell_type": "code",
   "execution_count": 7,
   "id": "c0f053ea-6c95-4722-99c2-5a51bbfa94d3",
   "metadata": {
    "tags": []
   },
   "outputs": [],
   "source": [
    ":dep generic_trait = {path = \"generic_trait\"}"
   ]
  },
  {
   "cell_type": "markdown",
   "id": "42dd2e5d",
   "metadata": {},
   "source": [
    "Firstly note that, since this approach requires the trait to be generic, we **could not** do this when using `TryFrom` as the conversion trait. This would only work with a `FromRobj` type custom trait:"
   ]
  },
  {
   "cell_type": "code",
   "execution_count": 20,
   "id": "1801a999-c79e-4524-b7da-8d893eb5de4f",
   "metadata": {
    "tags": []
   },
   "outputs": [
    {
     "name": "stdout",
     "output_type": "stream",
     "text": [
      "\u001b[38;2;167;29;93mpub\u001b[0m\u001b[38;2;51;51;51m \u001b[0m\u001b[38;2;167;29;93mstruct\u001b[0m\u001b[38;2;51;51;51m \u001b[0m\u001b[38;2;51;51;51mRobj\u001b[0m\u001b[38;2;51;51;51m;\u001b[0m\n",
      "\u001b[38;2;167;29;93mpub\u001b[0m\u001b[38;2;51;51;51m \u001b[0m\u001b[38;2;167;29;93mtrait\u001b[0m\u001b[38;2;51;51;51m \u001b[0m\u001b[38;2;51;51;51mFromRobj\u001b[0m\u001b[38;2;51;51;51m<Marker>: Sized \u001b[0m\u001b[38;2;51;51;51m{\u001b[0m\n",
      "\u001b[38;2;51;51;51m    \u001b[0m\u001b[38;2;167;29;93mfn\u001b[0m\u001b[38;2;51;51;51m \u001b[0m\u001b[38;2;121;93;163mfrom_robj\u001b[0m\u001b[38;2;51;51;51m(\u001b[0m\u001b[38;2;0;134;179mrobj\u001b[0m\u001b[38;2;51;51;51m:\u001b[0m\u001b[38;2;51;51;51m \u001b[0m\u001b[38;2;167;29;93m&\u001b[0m\u001b[38;2;51;51;51mRobj\u001b[0m\u001b[38;2;51;51;51m)\u001b[0m\u001b[38;2;51;51;51m \u001b[0m\u001b[38;2;51;51;51m->\u001b[0m\u001b[38;2;51;51;51m \u001b[0m\u001b[38;2;0;134;179mResult\u001b[0m\u001b[38;2;51;51;51m<\u001b[0m\u001b[38;2;167;29;93mSelf\u001b[0m\u001b[38;2;51;51;51m, \u001b[0m\u001b[38;2;167;29;93m&\u001b[0m\u001b[38;2;167;29;93m'static\u001b[0m\u001b[38;2;51;51;51m \u001b[0m\u001b[38;2;167;29;93mstr\u001b[0m\u001b[38;2;51;51;51m>\u001b[0m\u001b[38;2;51;51;51m;\u001b[0m\n",
      "\u001b[38;2;51;51;51m}\u001b[0m\n",
      "\u001b[38;2;167;29;93mpub\u001b[0m\u001b[38;2;51;51;51m \u001b[0m\u001b[38;2;167;29;93mstruct\u001b[0m\u001b[38;2;51;51;51m \u001b[0m\u001b[38;2;51;51;51mCoreConversion\u001b[0m\u001b[38;2;51;51;51m;\u001b[0m\n",
      "\u001b[38;2;167;29;93mimpl\u001b[0m\u001b[38;2;51;51;51m \u001b[0m\u001b[38;2;51;51;51mFromRobj\u001b[0m\u001b[38;2;51;51;51m<\u001b[0m\u001b[38;2;51;51;51mCoreConversion\u001b[0m\u001b[38;2;51;51;51m>\u001b[0m\u001b[38;2;51;51;51m \u001b[0m\u001b[38;2;167;29;93mfor\u001b[0m\u001b[38;2;51;51;51m \u001b[0m\u001b[38;2;51;51;51mbool\u001b[0m\u001b[38;2;51;51;51m \u001b[0m\u001b[38;2;51;51;51m{\u001b[0m\n",
      "\u001b[38;2;51;51;51m    \u001b[0m\u001b[38;2;167;29;93mfn\u001b[0m\u001b[38;2;51;51;51m \u001b[0m\u001b[38;2;121;93;163mfrom_robj\u001b[0m\u001b[38;2;51;51;51m(\u001b[0m\u001b[38;2;0;134;179m_robj\u001b[0m\u001b[38;2;51;51;51m:\u001b[0m\u001b[38;2;51;51;51m \u001b[0m\u001b[38;2;167;29;93m&\u001b[0m\u001b[38;2;51;51;51mRobj\u001b[0m\u001b[38;2;51;51;51m)\u001b[0m\u001b[38;2;51;51;51m \u001b[0m\u001b[38;2;51;51;51m->\u001b[0m\u001b[38;2;51;51;51m \u001b[0m\u001b[38;2;0;134;179mResult\u001b[0m\u001b[38;2;51;51;51m<\u001b[0m\u001b[38;2;167;29;93mSelf\u001b[0m\u001b[38;2;51;51;51m, \u001b[0m\u001b[38;2;167;29;93m&\u001b[0m\u001b[38;2;167;29;93m'static\u001b[0m\u001b[38;2;51;51;51m \u001b[0m\u001b[38;2;167;29;93mstr\u001b[0m\u001b[38;2;51;51;51m>\u001b[0m\u001b[38;2;51;51;51m \u001b[0m\u001b[38;2;51;51;51m{\u001b[0m\n",
      "\u001b[38;2;51;51;51m        \u001b[0m\u001b[38;2;167;29;93mreturn\u001b[0m\u001b[38;2;51;51;51m \u001b[0m\u001b[38;2;0;134;179mOk\u001b[0m\u001b[38;2;51;51;51m(\u001b[0m\u001b[38;2;0;134;179mtrue\u001b[0m\u001b[38;2;51;51;51m)\u001b[0m\u001b[38;2;51;51;51m;\u001b[0m\n",
      "\u001b[38;2;51;51;51m    \u001b[0m\u001b[38;2;51;51;51m}\u001b[0m\n",
      "\u001b[38;2;51;51;51m}\u001b[0m\n"
     ]
    }
   ],
   "source": [
    "cat_rust(\"generic_trait/src/lib.rs\");"
   ]
  },
  {
   "cell_type": "markdown",
   "id": "dcdeb0f3",
   "metadata": {},
   "source": [
    "Firstly note that we can now define a third party conversion without encountering the orphan rule:"
   ]
  },
  {
   "cell_type": "code",
   "execution_count": 21,
   "id": "36fcdde8-b7ba-4cf4-85f4-0fae4ac666f0",
   "metadata": {
    "tags": []
   },
   "outputs": [],
   "source": [
    "struct ThirdPartyMarker;\n",
    "impl generic_trait::FromRobj<ThirdPartyMarker> for String {\n",
    "    fn from_robj(_robj: &generic_trait::Robj) -> Result<Self, &'static str> {\n",
    "        return Ok(String::from(\"foo\"));\n",
    "    }\n",
    "}"
   ]
  },
  {
   "cell_type": "markdown",
   "id": "ff7f44e3",
   "metadata": {},
   "source": [
    "In addition, the marker trait is inferred automatically (note the `FromRobj` rather than `FromRobj<ThirdPartyMarker>`):"
   ]
  },
  {
   "cell_type": "code",
   "execution_count": 22,
   "id": "ec3032a3",
   "metadata": {},
   "outputs": [
    {
     "data": {
      "text/plain": [
       "\"foo\""
      ]
     },
     "execution_count": 22,
     "metadata": {},
     "output_type": "execute_result"
    }
   ],
   "source": [
    "let x: String = generic_trait::FromRobj::from_robj(&generic_trait::Robj).unwrap();\n",
    "x"
   ]
  },
  {
   "cell_type": "markdown",
   "id": "9a87045c",
   "metadata": {},
   "source": [
    "However, let's say that we try to redefine an existing conversion:"
   ]
  },
  {
   "cell_type": "code",
   "execution_count": 23,
   "id": "2223415d-7dc0-4882-b867-7872faefe4f3",
   "metadata": {},
   "outputs": [
    {
     "ename": "Error",
     "evalue": "cannot call associated function on trait without specifying the corresponding `impl` type",
     "output_type": "error",
     "traceback": [
      "\u001b[31m[E0790] Error:\u001b[0m cannot call associated function on trait without specifying the corresponding `impl` type",
      "   \u001b[38;5;246m╭\u001b[0m\u001b[38;5;246m─\u001b[0m\u001b[38;5;246m[\u001b[0mcommand_23:1:1\u001b[38;5;246m]\u001b[0m",
      "   \u001b[38;5;246m│\u001b[0m",
      " \u001b[38;5;246m6 │\u001b[0m \u001b[38;5;249ml\u001b[0m\u001b[38;5;249me\u001b[0m\u001b[38;5;249mt\u001b[0m\u001b[38;5;249m \u001b[0m\u001b[38;5;249mx\u001b[0m\u001b[38;5;249m:\u001b[0m\u001b[38;5;249m \u001b[0m\u001b[38;5;249mb\u001b[0m\u001b[38;5;249mo\u001b[0m\u001b[38;5;249mo\u001b[0m\u001b[38;5;249ml\u001b[0m\u001b[38;5;249m \u001b[0m\u001b[38;5;249m=\u001b[0m\u001b[38;5;249m \u001b[0m\u001b[38;5;54mg\u001b[0m\u001b[38;5;54me\u001b[0m\u001b[38;5;54mn\u001b[0m\u001b[38;5;54me\u001b[0m\u001b[38;5;54mr\u001b[0m\u001b[38;5;54mi\u001b[0m\u001b[38;5;54mc\u001b[0m\u001b[38;5;54m_\u001b[0m\u001b[38;5;54mt\u001b[0m\u001b[38;5;54mr\u001b[0m\u001b[38;5;54ma\u001b[0m\u001b[38;5;54mi\u001b[0m\u001b[38;5;54mt\u001b[0m\u001b[38;5;54m:\u001b[0m\u001b[38;5;54m:\u001b[0m\u001b[38;5;54mF\u001b[0m\u001b[38;5;54mr\u001b[0m\u001b[38;5;54mo\u001b[0m\u001b[38;5;54mm\u001b[0m\u001b[38;5;54mR\u001b[0m\u001b[38;5;54mo\u001b[0m\u001b[38;5;54mb\u001b[0m\u001b[38;5;54mj\u001b[0m\u001b[38;5;54m:\u001b[0m\u001b[38;5;54m:\u001b[0m\u001b[38;5;54mf\u001b[0m\u001b[38;5;54mr\u001b[0m\u001b[38;5;54mo\u001b[0m\u001b[38;5;54mm\u001b[0m\u001b[38;5;54m_\u001b[0m\u001b[38;5;54mr\u001b[0m\u001b[38;5;54mo\u001b[0m\u001b[38;5;54mb\u001b[0m\u001b[38;5;54mj\u001b[0m\u001b[38;5;249m(\u001b[0m\u001b[38;5;249m&\u001b[0m\u001b[38;5;249mg\u001b[0m\u001b[38;5;249me\u001b[0m\u001b[38;5;249mn\u001b[0m\u001b[38;5;249me\u001b[0m\u001b[38;5;249mr\u001b[0m\u001b[38;5;249mi\u001b[0m\u001b[38;5;249mc\u001b[0m\u001b[38;5;249m_\u001b[0m\u001b[38;5;249mt\u001b[0m\u001b[38;5;249mr\u001b[0m\u001b[38;5;249ma\u001b[0m\u001b[38;5;249mi\u001b[0m\u001b[38;5;249mt\u001b[0m\u001b[38;5;249m:\u001b[0m\u001b[38;5;249m:\u001b[0m\u001b[38;5;249mR\u001b[0m\u001b[38;5;249mo\u001b[0m\u001b[38;5;249mb\u001b[0m\u001b[38;5;249mj\u001b[0m\u001b[38;5;249m)\u001b[0m\u001b[38;5;249m.\u001b[0m\u001b[38;5;249mu\u001b[0m\u001b[38;5;249mn\u001b[0m\u001b[38;5;249mw\u001b[0m\u001b[38;5;249mr\u001b[0m\u001b[38;5;249ma\u001b[0m\u001b[38;5;249mp\u001b[0m\u001b[38;5;249m(\u001b[0m\u001b[38;5;249m)\u001b[0m\u001b[38;5;249m;\u001b[0m",
      " \u001b[38;5;246m  ·\u001b[0m               \u001b[38;5;54m─\u001b[0m\u001b[38;5;54m─\u001b[0m\u001b[38;5;54m─\u001b[0m\u001b[38;5;54m─\u001b[0m\u001b[38;5;54m─\u001b[0m\u001b[38;5;54m─\u001b[0m\u001b[38;5;54m─\u001b[0m\u001b[38;5;54m─\u001b[0m\u001b[38;5;54m─\u001b[0m\u001b[38;5;54m─\u001b[0m\u001b[38;5;54m─\u001b[0m\u001b[38;5;54m─\u001b[0m\u001b[38;5;54m─\u001b[0m\u001b[38;5;54m─\u001b[0m\u001b[38;5;54m─\u001b[0m\u001b[38;5;54m─\u001b[0m\u001b[38;5;54m─\u001b[0m\u001b[38;5;54m┬\u001b[0m\u001b[38;5;54m─\u001b[0m\u001b[38;5;54m─\u001b[0m\u001b[38;5;54m─\u001b[0m\u001b[38;5;54m─\u001b[0m\u001b[38;5;54m─\u001b[0m\u001b[38;5;54m─\u001b[0m\u001b[38;5;54m─\u001b[0m\u001b[38;5;54m─\u001b[0m\u001b[38;5;54m─\u001b[0m\u001b[38;5;54m─\u001b[0m\u001b[38;5;54m─\u001b[0m\u001b[38;5;54m─\u001b[0m\u001b[38;5;54m─\u001b[0m\u001b[38;5;54m─\u001b[0m\u001b[38;5;54m─\u001b[0m\u001b[38;5;54m─\u001b[0m  ",
      " \u001b[38;5;246m  ·\u001b[0m                                \u001b[38;5;54m╰\u001b[0m\u001b[38;5;54m─\u001b[0m\u001b[38;5;54m─\u001b[0m\u001b[38;5;54m─\u001b[0m\u001b[38;5;54m─\u001b[0m\u001b[38;5;54m─\u001b[0m\u001b[38;5;54m─\u001b[0m\u001b[38;5;54m─\u001b[0m\u001b[38;5;54m─\u001b[0m\u001b[38;5;54m─\u001b[0m\u001b[38;5;54m─\u001b[0m\u001b[38;5;54m─\u001b[0m\u001b[38;5;54m─\u001b[0m\u001b[38;5;54m─\u001b[0m\u001b[38;5;54m─\u001b[0m\u001b[38;5;54m─\u001b[0m\u001b[38;5;54m─\u001b[0m\u001b[38;5;54m─\u001b[0m\u001b[38;5;54m─\u001b[0m cannot call associated function of trait",
      "\u001b[38;5;246m───╯\u001b[0m"
     ]
    }
   ],
   "source": [
    "impl generic_trait::FromRobj<ThirdPartyMarker> for bool {\n",
    "    fn from_robj(_robj: &generic_trait::Robj) -> Result<Self, &'static str> {\n",
    "        return Ok(false);\n",
    "    }\n",
    "}\n",
    "let x: bool = generic_trait::FromRobj::from_robj(&generic_trait::Robj).unwrap();\n",
    "x"
   ]
  },
  {
   "cell_type": "markdown",
   "id": "b62f7acb",
   "metadata": {},
   "source": [
    "Rust can't automatically infer the marker struct to use, and so this fails to compile.\n",
    "\n",
    "This would break the conversion within extendr's internals, and it would do so with a confusing warning message."
   ]
  },
  {
   "cell_type": "markdown",
   "id": "a0876d15-b866-4475-a553-98c6425f76eb",
   "metadata": {},
   "source": [
    "# Custom Conversion Trait"
   ]
  },
  {
   "cell_type": "markdown",
   "id": "2081b882",
   "metadata": {},
   "source": [
    "It might seem that we could define a custom trait for each third party trait, and then simply tell extendr to use it instead of `FromRobj`. One might envisage this looking like:\n",
    "\n",
    "```rust\n",
    "#[extendr(from_trait = MyFromRobj)]\n",
    "```"
   ]
  },
  {
   "cell_type": "markdown",
   "id": "d51364b6",
   "metadata": {},
   "source": [
    "We can try to \"copy\" the existing implementations on `FromRobj` using a blanket implementation on `MyFromRobj`:"
   ]
  },
  {
   "cell_type": "code",
   "execution_count": 24,
   "id": "f0e5f95b",
   "metadata": {},
   "outputs": [],
   "source": [
    "trait MyFromRobj : Sized {\n",
    "    fn from_robj(_: &current::Robj) -> Result<Self, &'static str>;\n",
    "}\n",
    "impl<T> MyFromRobj for T where T : current::FromRobj {\n",
    "    fn from_robj(robj: &current::Robj) -> Result<Self, &'static str> {\n",
    "        current::FromRobj::from_robj(robj)\n",
    "    }\n",
    "}"
   ]
  },
  {
   "cell_type": "markdown",
   "id": "5d5d57cc",
   "metadata": {},
   "source": [
    "However we get a compiler error if we try to re-implement a conversion:"
   ]
  },
  {
   "cell_type": "code",
   "execution_count": 25,
   "id": "8765c19f",
   "metadata": {},
   "outputs": [
    {
     "ename": "Error",
     "evalue": "conflicting implementations of trait `MyFromRobj` for type `bool`",
     "output_type": "error",
     "traceback": [
      "\u001b[31m[E0119] Error:\u001b[0m conflicting implementations of trait `MyFromRobj` for type `bool`",
      "   \u001b[38;5;246m╭\u001b[0m\u001b[38;5;246m─\u001b[0m\u001b[38;5;246m[\u001b[0mcommand_25:1:1\u001b[38;5;246m]\u001b[0m",
      "   \u001b[38;5;246m│\u001b[0m",
      " \u001b[38;5;246m1 │\u001b[0m \u001b[38;5;54mi\u001b[0m\u001b[38;5;54mm\u001b[0m\u001b[38;5;54mp\u001b[0m\u001b[38;5;54ml\u001b[0m\u001b[38;5;54m \u001b[0m\u001b[38;5;54mM\u001b[0m\u001b[38;5;54my\u001b[0m\u001b[38;5;54mF\u001b[0m\u001b[38;5;54mr\u001b[0m\u001b[38;5;54mo\u001b[0m\u001b[38;5;54mm\u001b[0m\u001b[38;5;54mR\u001b[0m\u001b[38;5;54mo\u001b[0m\u001b[38;5;54mb\u001b[0m\u001b[38;5;54mj\u001b[0m\u001b[38;5;54m \u001b[0m\u001b[38;5;54mf\u001b[0m\u001b[38;5;54mo\u001b[0m\u001b[38;5;54mr\u001b[0m\u001b[38;5;54m \u001b[0m\u001b[38;5;54mb\u001b[0m\u001b[38;5;54mo\u001b[0m\u001b[38;5;54mo\u001b[0m\u001b[38;5;54ml\u001b[0m\u001b[38;5;249m \u001b[0m\u001b[38;5;249m{\u001b[0m",
      " \u001b[38;5;246m  ·\u001b[0m \u001b[38;5;54m─\u001b[0m\u001b[38;5;54m─\u001b[0m\u001b[38;5;54m─\u001b[0m\u001b[38;5;54m─\u001b[0m\u001b[38;5;54m─\u001b[0m\u001b[38;5;54m─\u001b[0m\u001b[38;5;54m─\u001b[0m\u001b[38;5;54m─\u001b[0m\u001b[38;5;54m─\u001b[0m\u001b[38;5;54m─\u001b[0m\u001b[38;5;54m─\u001b[0m\u001b[38;5;54m─\u001b[0m\u001b[38;5;54m┬\u001b[0m\u001b[38;5;54m─\u001b[0m\u001b[38;5;54m─\u001b[0m\u001b[38;5;54m─\u001b[0m\u001b[38;5;54m─\u001b[0m\u001b[38;5;54m─\u001b[0m\u001b[38;5;54m─\u001b[0m\u001b[38;5;54m─\u001b[0m\u001b[38;5;54m─\u001b[0m\u001b[38;5;54m─\u001b[0m\u001b[38;5;54m─\u001b[0m\u001b[38;5;54m─\u001b[0m  ",
      " \u001b[38;5;246m  ·\u001b[0m             \u001b[38;5;54m╰\u001b[0m\u001b[38;5;54m─\u001b[0m\u001b[38;5;54m─\u001b[0m\u001b[38;5;54m─\u001b[0m\u001b[38;5;54m─\u001b[0m\u001b[38;5;54m─\u001b[0m\u001b[38;5;54m─\u001b[0m\u001b[38;5;54m─\u001b[0m\u001b[38;5;54m─\u001b[0m\u001b[38;5;54m─\u001b[0m\u001b[38;5;54m─\u001b[0m\u001b[38;5;54m─\u001b[0m\u001b[38;5;54m─\u001b[0m\u001b[38;5;54m─\u001b[0m conflicting implementation for `bool`",
      "\u001b[38;5;246m───╯\u001b[0m"
     ]
    }
   ],
   "source": [
    "impl MyFromRobj for bool {\n",
    "    fn from_robj(robj: &current::Robj) -> Result<Self, &'static str> {\n",
    "        Ok(true)\n",
    "    }\n",
    "}"
   ]
  },
  {
   "cell_type": "markdown",
   "id": "c78fcba7",
   "metadata": {},
   "source": [
    "# Summary\n",
    "\n",
    "In summary, the two most promising approaches seem to be the newtype and the generic conversion approach. Each has different downsides and upsides.\n",
    "\n",
    "Conversion Appoach | Own Types<sup>1</sup> | Third Party Types<sup>2</sup> | Overriding<sup>3</sup> | Unchanged Function<sup>4</sup> | Supports `TryFrom` <sup>5</sup>\n",
    "--- | --- | --- | --- | --- | ---\n",
    "Nothing | ✅ | ❌ | ❌ | ✅ | ✅\n",
    "NewType | ✅ | ✅ | ✅ | ❌ | ✅\n",
    "Generic Trait | ✅ | ✅ | ❌ | ✅ | ❌\n",
    "Custom Trait |  ✅ | ✅ | ❓<sup>6</sup> | ❌ | ✅\n",
    "\n",
    "<sup>1</sup> Can a user who is working on a crate other than `extendr` create conversions to and from `Robj` for their own types?\n",
    "\n",
    "<sup>2</sup> Can a user who is working on a crate other than `extendr` create conversions to and from a third party type, that lives neither in their own crate, nor in extendr\n",
    "\n",
    "<sup>3</sup> Can a user override the built-in extendr conversion if they want?\n",
    "\n",
    "<sup>4</sup> Will the user have to modify the `#[extendr]` function in some way to support this style of conversion?\n",
    "\n",
    "<sup>5</sup> Would this approach work if we kept the use of `TryFrom` as our conversion trait?\n",
    "\n",
    "<sup>6</sup> They can technically do so, but then they lose the blanket implementation for normal `FromRobj` types which renders it fairly useless"
   ]
  }
 ],
 "metadata": {
  "kernelspec": {
   "display_name": "Rust",
   "language": "rust",
   "name": "rust"
  },
  "language_info": {
   "codemirror_mode": "rust",
   "file_extension": ".rs",
   "mimetype": "text/rust",
   "name": "Rust",
   "pygment_lexer": "rust",
   "version": ""
  }
 },
 "nbformat": 4,
 "nbformat_minor": 5
}
